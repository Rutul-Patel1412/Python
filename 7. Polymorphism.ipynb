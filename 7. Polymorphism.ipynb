{
 "cells": [
  {
   "cell_type": "markdown",
   "metadata": {},
   "source": [
    "# Points\n",
    "1. Polymorphism is based on two words poly and morph. poly means more than one and morph means form. Thus, polymorphism means ability to take more than one form or one thing can be done in many ways. Example : len() can be used to find length of String and also to know number of elements in List.\n",
    "2. We use polymorphism in Method Overloading and Method Overriding."
   ]
  },
  {
   "cell_type": "code",
   "execution_count": 1,
   "metadata": {},
   "outputs": [],
   "source": [
    "a=\"hello\"\n",
    "b=[2,5,'hi']"
   ]
  },
  {
   "cell_type": "code",
   "execution_count": 2,
   "metadata": {},
   "outputs": [
    {
     "name": "stdout",
     "output_type": "stream",
     "text": [
      "5\n",
      "3\n"
     ]
    }
   ],
   "source": [
    "print(len(a))\n",
    "print(len(b))"
   ]
  },
  {
   "cell_type": "markdown",
   "metadata": {},
   "source": [
    "# Method overloading\n",
    "1. Like other languages support method overloading, Python does not support method overloading by default. But there are different ways to achieve method overloading in Python (Like using dispatch). Dispatcher creates an object which stores all implementation (of methods) and on runtime it selects the appropriate method on basis of type and number of parameters passed."
   ]
  },
  {
   "cell_type": "code",
   "execution_count": 3,
   "metadata": {},
   "outputs": [
    {
     "ename": "TypeError",
     "evalue": "product() missing 1 required positional argument: 'c'",
     "output_type": "error",
     "traceback": [
      "\u001b[1;31m---------------------------------------------------------------------------\u001b[0m",
      "\u001b[1;31mTypeError\u001b[0m                                 Traceback (most recent call last)",
      "\u001b[1;32m<ipython-input-3-229af1787858>\u001b[0m in \u001b[0;36m<module>\u001b[1;34m\u001b[0m\n\u001b[0;32m      4\u001b[0m \u001b[1;32mdef\u001b[0m \u001b[0mproduct\u001b[0m\u001b[1;33m(\u001b[0m\u001b[0ma\u001b[0m\u001b[1;33m,\u001b[0m\u001b[0mb\u001b[0m\u001b[1;33m,\u001b[0m\u001b[0mc\u001b[0m\u001b[1;33m)\u001b[0m\u001b[1;33m:\u001b[0m\u001b[1;33m\u001b[0m\u001b[1;33m\u001b[0m\u001b[0m\n\u001b[0;32m      5\u001b[0m     \u001b[1;32mreturn\u001b[0m \u001b[0ma\u001b[0m\u001b[1;33m*\u001b[0m\u001b[0mb\u001b[0m\u001b[1;33m*\u001b[0m\u001b[0mc\u001b[0m\u001b[1;33m\u001b[0m\u001b[1;33m\u001b[0m\u001b[0m\n\u001b[1;32m----> 6\u001b[1;33m \u001b[0mprint\u001b[0m\u001b[1;33m(\u001b[0m\u001b[0mproduct\u001b[0m\u001b[1;33m(\u001b[0m\u001b[1;36m5\u001b[0m\u001b[1;33m,\u001b[0m\u001b[1;36m3\u001b[0m\u001b[1;33m)\u001b[0m\u001b[1;33m)\u001b[0m\u001b[1;33m\u001b[0m\u001b[1;33m\u001b[0m\u001b[0m\n\u001b[0m\u001b[0;32m      7\u001b[0m \u001b[0mprint\u001b[0m\u001b[1;33m(\u001b[0m\u001b[0mproduct\u001b[0m\u001b[1;33m(\u001b[0m\u001b[1;36m2\u001b[0m\u001b[1;33m,\u001b[0m\u001b[1;36m4\u001b[0m\u001b[1;33m,\u001b[0m\u001b[1;36m10\u001b[0m\u001b[1;33m)\u001b[0m\u001b[1;33m)\u001b[0m\u001b[1;33m\u001b[0m\u001b[1;33m\u001b[0m\u001b[0m\n",
      "\u001b[1;31mTypeError\u001b[0m: product() missing 1 required positional argument: 'c'"
     ]
    }
   ],
   "source": [
    "# Python does not support Method Overloading by default.\n",
    "def product(a,b):\n",
    "    return a*b\n",
    "def product(a,b,c):\n",
    "    return a*b*c\n",
    "print(product(5,3))\n",
    "print(product(2,4,10))"
   ]
  },
  {
   "cell_type": "code",
   "execution_count": 11,
   "metadata": {},
   "outputs": [],
   "source": [
    "# Python method overloading with dispatch\n",
    "# In command prompt write following command(its better if internet is on)\n",
    "# pip3 install multipledispatch\n",
    "# Then do as follows\n",
    "from multipledispatch import dispatch"
   ]
  },
  {
   "cell_type": "code",
   "execution_count": 13,
   "metadata": {},
   "outputs": [
    {
     "name": "stdout",
     "output_type": "stream",
     "text": [
      "In dispatch 1 ,product is : 15\n",
      "In dispatch 2 ,product is : 1000\n",
      "In dispatch 3 ,product is : 37.5\n"
     ]
    }
   ],
   "source": [
    "@dispatch(int,int)\n",
    "def product(a,b):\n",
    "    x=a*b\n",
    "    print(\"In dispatch 1\",\",product is :\",x)\n",
    "\n",
    "    \n",
    "@dispatch(int,int,int)\n",
    "def product(a,b,c):\n",
    "    x=a*b*c\n",
    "    print(\"In dispatch 2\",\",product is :\",x)\n",
    "        \n",
    "        \n",
    "@dispatch(float,float,float)\n",
    "def product(a,b,c):\n",
    "    x=a*b*c\n",
    "    print(\"In dispatch 3\",\",product is :\",x)\n",
    "\n",
    "    \n",
    "product(3,5)\n",
    "product(10,10,10)\n",
    "product(2.5,5.0,3.0)"
   ]
  },
  {
   "cell_type": "markdown",
   "metadata": {},
   "source": [
    "## Method Overriding\n",
    "1. Mehthod overriding is adding more (or different or special) functionality in sub-class, that is implemented from parent class."
   ]
  },
  {
   "cell_type": "code",
   "execution_count": 4,
   "metadata": {},
   "outputs": [
    {
     "name": "stdout",
     "output_type": "stream",
     "text": [
      "method of parent\n",
      "method of child\n"
     ]
    }
   ],
   "source": [
    "# If we don't define __init__ method in below classes than also works fine.\n",
    "class Parent:\n",
    "    def __init__(self):\n",
    "        pass\n",
    "    def myMethod(self):\n",
    "        print(\"method of parent\")\n",
    "class Child(Parent):\n",
    "    def __init__(self):\n",
    "        pass\n",
    "    def myMethod(self):\n",
    "        print(\"method of child\")\n",
    "p=Parent()\n",
    "c=Child()\n",
    "p.myMethod()\n",
    "c.myMethod()"
   ]
  },
  {
   "cell_type": "code",
   "execution_count": null,
   "metadata": {},
   "outputs": [],
   "source": []
  },
  {
   "cell_type": "code",
   "execution_count": null,
   "metadata": {},
   "outputs": [],
   "source": []
  }
 ],
 "metadata": {
  "kernelspec": {
   "display_name": "Python 3",
   "language": "python",
   "name": "python3"
  },
  "language_info": {
   "codemirror_mode": {
    "name": "ipython",
    "version": 3
   },
   "file_extension": ".py",
   "mimetype": "text/x-python",
   "name": "python",
   "nbconvert_exporter": "python",
   "pygments_lexer": "ipython3",
   "version": "3.8.5"
  }
 },
 "nbformat": 4,
 "nbformat_minor": 4
}
