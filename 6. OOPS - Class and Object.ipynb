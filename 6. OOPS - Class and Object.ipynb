{
 "cells": [
  {
   "cell_type": "markdown",
   "metadata": {},
   "source": [
    "# Points\n",
    "1. Class is user defined prototype for object. Class has variables and methods that act on variable. Class is blue print for object.\n",
    "2. Object is an instance of class.\n",
    "3. Inheritance is a technique where child class acquires characteristics of base class.\n",
    "4. Polymorphism means one task can be done in different ways. \"Poly\" means more than one and \"morph\" means form.\n",
    "5. Encapsulation means wrapping up of data and code into a single unit.\n",
    "6. Data Abstraction is used to hide internal details and show only functionalities. The end user interacts and uses functionality without bothering about implementation details.\n",
    "7. Method means function defined in class.\n",
    "8. Operator overloading means an operator performs more than one function like + can be sum or concatination"
   ]
  },
  {
   "cell_type": "markdown",
   "metadata": {},
   "source": [
    "# Points\n",
    "1. __init__() is used for initialization of class.\n",
    "2. First argument to method is pointer i.e. self in below example. Instead of self we can give any name.\n"
   ]
  },
  {
   "cell_type": "code",
   "execution_count": 1,
   "metadata": {},
   "outputs": [],
   "source": [
    "class Student:\n",
    "    count=0\n",
    "    def __init__(self,name,id,std,percent):\n",
    "        self.n=name\n",
    "        self.i=id\n",
    "        self.s=std\n",
    "        self.p=percent\n",
    "        Student.count+=1\n",
    "    def displaydata(self):\n",
    "        print(\"The student name is\",self.n,\"whose id is\",self.i,\"and studies in standard\",self.s,\". He scored\",self.p,\"percent.\")\n"
   ]
  },
  {
   "cell_type": "code",
   "execution_count": 2,
   "metadata": {},
   "outputs": [],
   "source": [
    "a = Student(\"Rutul\",1,10,86)\n",
    "b = Student(\"Pavan\",2,10,90)\n",
    "c = Student(\"Yash\",3,10,93)\n",
    "d = Student(\"Harsh\",4,10,91)"
   ]
  },
  {
   "cell_type": "code",
   "execution_count": 3,
   "metadata": {},
   "outputs": [
    {
     "name": "stdout",
     "output_type": "stream",
     "text": [
      "The student name is Rutul whose id is 1 and studies in standard 10 . He scored 86 percent.\n"
     ]
    }
   ],
   "source": [
    "a.displaydata()"
   ]
  },
  {
   "cell_type": "code",
   "execution_count": 4,
   "metadata": {},
   "outputs": [
    {
     "name": "stdout",
     "output_type": "stream",
     "text": [
      "The student name is Harsh whose id is 4 and studies in standard 10 . He scored 91 percent.\n"
     ]
    }
   ],
   "source": [
    "d.displaydata()"
   ]
  },
  {
   "cell_type": "code",
   "execution_count": 6,
   "metadata": {},
   "outputs": [
    {
     "name": "stdout",
     "output_type": "stream",
     "text": [
      "Total students = 4\n"
     ]
    }
   ],
   "source": [
    "print(\"Total students =\",Student.count)"
   ]
  },
  {
   "cell_type": "code",
   "execution_count": 7,
   "metadata": {},
   "outputs": [
    {
     "name": "stdout",
     "output_type": "stream",
     "text": [
      "The student name is Rutul whose id is 1 and studies in standard 10 . He scored 86 percent.\n",
      "The student name is Pavan whose id is 2 and studies in standard 10 . He scored 90 percent.\n",
      "The student name is Yash whose id is 3 and studies in standard 10 . He scored 93 percent.\n",
      "The student name is Harsh whose id is 4 and studies in standard 10 . He scored 91 percent.\n"
     ]
    }
   ],
   "source": [
    "# Used List to access object\n",
    "L = [a,b,c,d]\n",
    "for i in L:\n",
    "    i.displaydata()\n"
   ]
  },
  {
   "cell_type": "code",
   "execution_count": 14,
   "metadata": {},
   "outputs": [],
   "source": [
    "# Instead of self we can use anything, like p as used below.\n",
    "class Student:\n",
    "    count=0\n",
    "    def __init__(p,name,id,std,percent):\n",
    "        p.n=name\n",
    "        p.i=id\n",
    "        p.s=std\n",
    "        p.p=percent\n",
    "        Student.count+=1\n",
    "    def displaydata(p):\n",
    "        print(\"The student name is\",p.n,\"whose id is\",p.i,\"and studies in standard\",p.s,\". He scored\",p.p,\"percent.\")\n"
   ]
  },
  {
   "cell_type": "code",
   "execution_count": 15,
   "metadata": {},
   "outputs": [],
   "source": [
    "e = Student(\"Rutul\",1,10,86)\n",
    "f = Student(\"Pavan\",2,10,90)\n",
    "g = Student(\"Yash\",3,10,93)\n",
    "h = Student(\"Harsh\",4,10,91)"
   ]
  },
  {
   "cell_type": "code",
   "execution_count": 16,
   "metadata": {},
   "outputs": [
    {
     "name": "stdout",
     "output_type": "stream",
     "text": [
      "The student name is Rutul whose id is 1 and studies in standard 10 . He scored 86 percent.\n"
     ]
    }
   ],
   "source": [
    "e.displaydata()"
   ]
  },
  {
   "cell_type": "markdown",
   "metadata": {},
   "source": [
    "## Points\n",
    "0. \"obj\" is object name and \"name\" is attribute name\n",
    "1. getattr(obj,name) : koi particular object na attribute ni value batave\n",
    "2. hasattr(obj,name) : koi particular object ma attribute che ke nai TRUE or FALSE return kare\n",
    "3. setattr(obj,name,newvalue) : object ni particular attribute ni value change kare\n",
    "4. delattr(obj,name) : koi particular object no attribute delete karva"
   ]
  },
  {
   "cell_type": "code",
   "execution_count": 35,
   "metadata": {},
   "outputs": [],
   "source": [
    "class Student:\n",
    "    count=0\n",
    "    def __init__(self,name,id,std,percent):\n",
    "        self.n=name\n",
    "        self.i=id\n",
    "        self.s=std\n",
    "        self.p=percent\n",
    "        Student.count+=1\n",
    "    def displaydata(self):\n",
    "        print(\"The student name is\",self.n,\"whose id is\",self.i,\"and studies in standard\",self.s,\". He scored\",self.p,\"percent.\")\n"
   ]
  },
  {
   "cell_type": "code",
   "execution_count": 36,
   "metadata": {},
   "outputs": [],
   "source": [
    "a = Student(\"Rutul\",1,10,86)\n",
    "b = Student(\"Pavan\",2,10,90)\n",
    "c = Student(\"Yash\",3,10,93)\n",
    "d = Student(\"Harsh\",4,10,91)"
   ]
  },
  {
   "cell_type": "code",
   "execution_count": 37,
   "metadata": {},
   "outputs": [
    {
     "name": "stdout",
     "output_type": "stream",
     "text": [
      "The student name is Rutul whose id is 1 and studies in standard 10 . He scored 86 percent.\n",
      "The student name is Pavan whose id is 2 and studies in standard 10 . He scored 90 percent.\n",
      "The student name is Yash whose id is 3 and studies in standard 10 . He scored 93 percent.\n",
      "The student name is Harsh whose id is 4 and studies in standard 10 . He scored 91 percent.\n"
     ]
    }
   ],
   "source": [
    "L = [a,b,c,d]\n",
    "for i in L:\n",
    "    i.displaydata()"
   ]
  },
  {
   "cell_type": "code",
   "execution_count": 38,
   "metadata": {},
   "outputs": [
    {
     "data": {
      "text/plain": [
       "'Rutul'"
      ]
     },
     "execution_count": 38,
     "metadata": {},
     "output_type": "execute_result"
    }
   ],
   "source": [
    "getattr(a,'n')"
   ]
  },
  {
   "cell_type": "code",
   "execution_count": 39,
   "metadata": {},
   "outputs": [
    {
     "data": {
      "text/plain": [
       "1"
      ]
     },
     "execution_count": 39,
     "metadata": {},
     "output_type": "execute_result"
    }
   ],
   "source": [
    "getattr(a,'i')"
   ]
  },
  {
   "cell_type": "code",
   "execution_count": 40,
   "metadata": {},
   "outputs": [
    {
     "data": {
      "text/plain": [
       "True"
      ]
     },
     "execution_count": 40,
     "metadata": {},
     "output_type": "execute_result"
    }
   ],
   "source": [
    "hasattr(a,'n')"
   ]
  },
  {
   "cell_type": "code",
   "execution_count": 41,
   "metadata": {},
   "outputs": [
    {
     "data": {
      "text/plain": [
       "False"
      ]
     },
     "execution_count": 41,
     "metadata": {},
     "output_type": "execute_result"
    }
   ],
   "source": [
    "hasattr(a,'m')"
   ]
  },
  {
   "cell_type": "code",
   "execution_count": 42,
   "metadata": {},
   "outputs": [],
   "source": [
    "setattr(a,'n','Rutul Patel')"
   ]
  },
  {
   "cell_type": "code",
   "execution_count": 43,
   "metadata": {},
   "outputs": [
    {
     "name": "stdout",
     "output_type": "stream",
     "text": [
      "The student name is Rutul Patel whose id is 1 and studies in standard 10 . He scored 86 percent.\n"
     ]
    }
   ],
   "source": [
    "a.displaydata()"
   ]
  },
  {
   "cell_type": "markdown",
   "metadata": {},
   "source": [
    "## Points\n",
    "1. __dict__ : dictionary containing class's namespace.\n",
    "2. __doc__ : class documentation string or none , if undefined\n",
    "3. __name__ : class name\n",
    "4. __module__ : module in which the class is defined. This is \"__main__\" in interactive mode.\n",
    "5. __bases__ : "
   ]
  },
  {
   "cell_type": "code",
   "execution_count": 53,
   "metadata": {},
   "outputs": [
    {
     "data": {
      "text/plain": [
       "mappingproxy({'__module__': '__main__',\n",
       "              'count': 4,\n",
       "              '__init__': <function __main__.Student.__init__(self, name, id, std, percent)>,\n",
       "              'displaydata': <function __main__.Student.displaydata(self)>,\n",
       "              '__dict__': <attribute '__dict__' of 'Student' objects>,\n",
       "              '__weakref__': <attribute '__weakref__' of 'Student' objects>,\n",
       "              '__doc__': None})"
      ]
     },
     "execution_count": 53,
     "metadata": {},
     "output_type": "execute_result"
    }
   ],
   "source": [
    "Student.__dict__"
   ]
  },
  {
   "cell_type": "code",
   "execution_count": 54,
   "metadata": {},
   "outputs": [
    {
     "name": "stdout",
     "output_type": "stream",
     "text": [
      "Student.__doc__\n"
     ]
    }
   ],
   "source": [
    "print(\"Student.__doc__\")"
   ]
  },
  {
   "cell_type": "code",
   "execution_count": 55,
   "metadata": {},
   "outputs": [
    {
     "data": {
      "text/plain": [
       "'Student'"
      ]
     },
     "execution_count": 55,
     "metadata": {},
     "output_type": "execute_result"
    }
   ],
   "source": [
    "Student.__name__"
   ]
  },
  {
   "cell_type": "code",
   "execution_count": 56,
   "metadata": {},
   "outputs": [
    {
     "data": {
      "text/plain": [
       "'__main__'"
      ]
     },
     "execution_count": 56,
     "metadata": {},
     "output_type": "execute_result"
    }
   ],
   "source": [
    "__name__"
   ]
  },
  {
   "cell_type": "code",
   "execution_count": 57,
   "metadata": {},
   "outputs": [
    {
     "data": {
      "text/plain": [
       "'Student'"
      ]
     },
     "execution_count": 57,
     "metadata": {},
     "output_type": "execute_result"
    }
   ],
   "source": [
    "Student.__name__"
   ]
  },
  {
   "cell_type": "code",
   "execution_count": 58,
   "metadata": {},
   "outputs": [
    {
     "data": {
      "text/plain": [
       "'__main__'"
      ]
     },
     "execution_count": 58,
     "metadata": {},
     "output_type": "execute_result"
    }
   ],
   "source": [
    "Student.__module__"
   ]
  },
  {
   "cell_type": "code",
   "execution_count": 59,
   "metadata": {},
   "outputs": [
    {
     "data": {
      "text/plain": [
       "(object,)"
      ]
     },
     "execution_count": 59,
     "metadata": {},
     "output_type": "execute_result"
    }
   ],
   "source": [
    "Student.__bases__"
   ]
  },
  {
   "cell_type": "code",
   "execution_count": null,
   "metadata": {},
   "outputs": [],
   "source": []
  },
  {
   "cell_type": "code",
   "execution_count": 78,
   "metadata": {},
   "outputs": [
    {
     "name": "stdout",
     "output_type": "stream",
     "text": [
      "10\n",
      "The sub is 5\n",
      "None\n",
      "49\n"
     ]
    }
   ],
   "source": [
    "class calculator:\n",
    "    def sum(self,a,b):\n",
    "        self.a=a\n",
    "        self.b=b\n",
    "        return a+b\n",
    "    def sub(self,c,d):\n",
    "        self.c=c\n",
    "        self.d=d\n",
    "        z=c-d\n",
    "        print(\"The sub is\",z)\n",
    "    def mul(self,e,f):\n",
    "        self.e = e\n",
    "        self.f = f\n",
    "        return self.e*self.f             # e*f is also fine instead of self.e*self.f\n",
    "x = calculator()\n",
    "print(x.sum(4,6))\n",
    "print(x.sub(10,5))\n",
    "print(x.mul(7,7))"
   ]
  },
  {
   "cell_type": "code",
   "execution_count": 81,
   "metadata": {},
   "outputs": [
    {
     "name": "stdout",
     "output_type": "stream",
     "text": [
      "5+12j\n"
     ]
    }
   ],
   "source": [
    "# To print variables we can use curly brackets and format also\n",
    "x=5\n",
    "y=12\n",
    "print(\"{0}+{1}j\".format(x,y))"
   ]
  },
  {
   "cell_type": "code",
   "execution_count": null,
   "metadata": {},
   "outputs": [],
   "source": []
  }
 ],
 "metadata": {
  "kernelspec": {
   "display_name": "Python 3",
   "language": "python",
   "name": "python3"
  },
  "language_info": {
   "codemirror_mode": {
    "name": "ipython",
    "version": 3
   },
   "file_extension": ".py",
   "mimetype": "text/x-python",
   "name": "python",
   "nbconvert_exporter": "python",
   "pygments_lexer": "ipython3",
   "version": "3.8.5"
  }
 },
 "nbformat": 4,
 "nbformat_minor": 4
}
