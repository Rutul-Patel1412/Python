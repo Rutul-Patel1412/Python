{
 "cells": [
  {
   "cell_type": "markdown",
   "metadata": {},
   "source": [
    "## Points\n",
    "1. Python is simple, easy to learn (and use), powerful, high level, object oriented programming language, cross-platform(runs equally on windows, linux, unix,etc. Thus, we can say it is portable) and integrated(i.e. it can be easily integrated with c,c++,java,etc.).\n",
    "2. Guido Van Rossum is founder of Python programming language. He was searching for a name that is short,unique and mysterious, so he named programming language python (inspired from Monty Python which is a comedy series from BBC)\n",
    "3. Python 2 ma print \"somethiing\" avu hatu. Python 3 print ne function tarike use kare like print(\"something\"). Python 2 ma raw_input() function hatu and Python 3 ma input() che.\n",
    "4. Python Application areas : \n",
    "    1. Web Applications : provide framework like django,pyramid,flask,etc. for web development. provides librabies to handle          internet protocols like html,xml,json,email processing,request, etc. \n",
    "    2. AI and Machine Learning : provide libraries like Numpy (computing), scipy(advanced computing) and pybrain (python              machine learning)\n",
    "    3. Desktop GUI application : Provide Tk GUI library\n",
    "    4. Scientific and Numeric computing : provides libraries and packages like Scipy(is group of packages of engineering),            pandas, scikit learn.\n",
    "    5. Game Development : frameworks like PyGame, PyKyra\n",
    "    6. 3D CAD Applications (CAD = Computer Aided Design) : Fandango application provides full features for CAD. 2D design or 3D        solids, design curves, etc.\n",
    "5. Python is a interpreted language but compilation is a step. Python code (.py) file is first compiled to bytecode (.pyc or .pyo format). This byte code is low level set of instructions that is executed by an interpreter. This byte code can be executed on any platform (windows, MacOS, etc.)\n",
    "6. In Python 3.6 there are 33 keywords.\n",
    "7. Identifier is name given to class, functions, variables, etc. Identifier cannot start with digit (ex : 1name = 5 is wrong). Using special characters is wrong (ex : abd@ = 6)\n",
    "8. Literal is data given to the variable (ex : a=5 , here 5 is literal)"
   ]
  },
  {
   "cell_type": "code",
   "execution_count": 3,
   "metadata": {},
   "outputs": [],
   "source": [
    "ac_ = 5"
   ]
  },
  {
   "cell_type": "code",
   "execution_count": 1,
   "metadata": {},
   "outputs": [
    {
     "name": "stdout",
     "output_type": "stream",
     "text": [
      "Hello world\n"
     ]
    }
   ],
   "source": [
    "print(\"Hello world\")"
   ]
  },
  {
   "cell_type": "code",
   "execution_count": 2,
   "metadata": {},
   "outputs": [
    {
     "name": "stdout",
     "output_type": "stream",
     "text": [
      "200 200 300\n"
     ]
    }
   ],
   "source": [
    "a=b=200\n",
    "c=300\n",
    "# in print comma adds one space\n",
    "print(a,b, c)"
   ]
  },
  {
   "cell_type": "code",
   "execution_count": 3,
   "metadata": {},
   "outputs": [
    {
     "name": "stdout",
     "output_type": "stream",
     "text": [
      "500\n"
     ]
    }
   ],
   "source": [
    "print(500)"
   ]
  },
  {
   "cell_type": "code",
   "execution_count": 4,
   "metadata": {},
   "outputs": [
    {
     "name": "stdout",
     "output_type": "stream",
     "text": [
      "2 5 6 10\n"
     ]
    }
   ],
   "source": [
    "# Case sensitive\n",
    "ab = 2\n",
    "Ab = 5\n",
    "aB = 6\n",
    "AB = 10\n",
    "print(ab, Ab, aB, AB)"
   ]
  },
  {
   "cell_type": "code",
   "execution_count": 5,
   "metadata": {},
   "outputs": [
    {
     "ename": "SyntaxError",
     "evalue": "invalid syntax (<ipython-input-5-562764ff3d22>, line 2)",
     "output_type": "error",
     "traceback": [
      "\u001b[1;36m  File \u001b[1;32m\"<ipython-input-5-562764ff3d22>\"\u001b[1;36m, line \u001b[1;32m2\u001b[0m\n\u001b[1;33m    1name = 7\u001b[0m\n\u001b[1;37m        ^\u001b[0m\n\u001b[1;31mSyntaxError\u001b[0m\u001b[1;31m:\u001b[0m invalid syntax\n"
     ]
    }
   ],
   "source": [
    "# Identifier cannot start with number\n",
    "1name = 7"
   ]
  },
  {
   "cell_type": "code",
   "execution_count": 6,
   "metadata": {},
   "outputs": [
    {
     "ename": "SyntaxError",
     "evalue": "invalid syntax (<ipython-input-6-586edfcec963>, line 2)",
     "output_type": "error",
     "traceback": [
      "\u001b[1;36m  File \u001b[1;32m\"<ipython-input-6-586edfcec963>\"\u001b[1;36m, line \u001b[1;32m2\u001b[0m\n\u001b[1;33m    abd@ = 5\u001b[0m\n\u001b[1;37m         ^\u001b[0m\n\u001b[1;31mSyntaxError\u001b[0m\u001b[1;31m:\u001b[0m invalid syntax\n"
     ]
    }
   ],
   "source": [
    "# Identifier cannot have special character like !,@,#,$,%,etc.\n",
    "abd@ = 5"
   ]
  },
  {
   "cell_type": "markdown",
   "metadata": {},
   "source": [
    "## Operators\n",
    "1. Arithmetic Operators : + , - , * , / , % , // , **\n",
    "2. Comparision operators : > , < , >=, <= , == , !=\n",
    "3. Logical Operators : and , or , not\n",
    "4. Bitwise Operators : & , | , ~ , ^ , >> , <<\n",
    "5. Assignment operator : = , x op= 5 becomes  x = x op 5\n",
    "6. Identity operator : is , is not\n",
    "7. Membership operator : in , not in"
   ]
  },
  {
   "cell_type": "code",
   "execution_count": 7,
   "metadata": {},
   "outputs": [
    {
     "data": {
      "text/plain": [
       "2"
      ]
     },
     "execution_count": 7,
     "metadata": {},
     "output_type": "execute_result"
    }
   ],
   "source": [
    "# % is Modulo (remainder)\n",
    "8 % 3"
   ]
  },
  {
   "cell_type": "code",
   "execution_count": 8,
   "metadata": {},
   "outputs": [
    {
     "data": {
      "text/plain": [
       "2"
      ]
     },
     "execution_count": 8,
     "metadata": {},
     "output_type": "execute_result"
    }
   ],
   "source": [
    "# // is floor division (performs division and gives floor value, example: 2.66 becomes 2)\n",
    "# 8/3 gives  2.66\n",
    "8 // 3"
   ]
  },
  {
   "cell_type": "code",
   "execution_count": 9,
   "metadata": {},
   "outputs": [
    {
     "data": {
      "text/plain": [
       "25"
      ]
     },
     "execution_count": 9,
     "metadata": {},
     "output_type": "execute_result"
    }
   ],
   "source": [
    "# ** is exponent (power)\n",
    "5**2"
   ]
  },
  {
   "cell_type": "code",
   "execution_count": 10,
   "metadata": {},
   "outputs": [
    {
     "data": {
      "text/plain": [
       "6"
      ]
     },
     "execution_count": 10,
     "metadata": {},
     "output_type": "execute_result"
    }
   ],
   "source": [
    "2 | 4"
   ]
  },
  {
   "cell_type": "code",
   "execution_count": 11,
   "metadata": {},
   "outputs": [
    {
     "data": {
      "text/plain": [
       "True"
      ]
     },
     "execution_count": 11,
     "metadata": {},
     "output_type": "execute_result"
    }
   ],
   "source": [
    "# Identity operator\n",
    "x = 5\n",
    "y = 5\n",
    "z = 7\n",
    "x is y"
   ]
  },
  {
   "cell_type": "code",
   "execution_count": 12,
   "metadata": {},
   "outputs": [
    {
     "data": {
      "text/plain": [
       "False"
      ]
     },
     "execution_count": 12,
     "metadata": {},
     "output_type": "execute_result"
    }
   ],
   "source": [
    "x is not y"
   ]
  },
  {
   "cell_type": "code",
   "execution_count": 13,
   "metadata": {},
   "outputs": [
    {
     "data": {
      "text/plain": [
       "True"
      ]
     },
     "execution_count": 13,
     "metadata": {},
     "output_type": "execute_result"
    }
   ],
   "source": [
    "x is not z"
   ]
  },
  {
   "cell_type": "code",
   "execution_count": 14,
   "metadata": {},
   "outputs": [
    {
     "data": {
      "text/plain": [
       "False"
      ]
     },
     "execution_count": 14,
     "metadata": {},
     "output_type": "execute_result"
    }
   ],
   "source": [
    "x is z"
   ]
  },
  {
   "cell_type": "code",
   "execution_count": 15,
   "metadata": {},
   "outputs": [
    {
     "data": {
      "text/plain": [
       "True"
      ]
     },
     "execution_count": 15,
     "metadata": {},
     "output_type": "execute_result"
    }
   ],
   "source": [
    "# Membership operator \n",
    "x = \"hello\"\n",
    "\"h\" in x"
   ]
  },
  {
   "cell_type": "code",
   "execution_count": 16,
   "metadata": {},
   "outputs": [
    {
     "data": {
      "text/plain": [
       "False"
      ]
     },
     "execution_count": 16,
     "metadata": {},
     "output_type": "execute_result"
    }
   ],
   "source": [
    "\"ello\" not in x"
   ]
  },
  {
   "cell_type": "code",
   "execution_count": 17,
   "metadata": {},
   "outputs": [
    {
     "data": {
      "text/plain": [
       "True"
      ]
     },
     "execution_count": 17,
     "metadata": {},
     "output_type": "execute_result"
    }
   ],
   "source": [
    "y = [3,6,5]\n",
    "3 in y"
   ]
  },
  {
   "cell_type": "code",
   "execution_count": 18,
   "metadata": {},
   "outputs": [
    {
     "data": {
      "text/plain": [
       "False"
      ]
     },
     "execution_count": 18,
     "metadata": {},
     "output_type": "execute_result"
    }
   ],
   "source": [
    "4 in y"
   ]
  },
  {
   "cell_type": "markdown",
   "metadata": {},
   "source": [
    "## Comments"
   ]
  },
  {
   "cell_type": "code",
   "execution_count": 19,
   "metadata": {},
   "outputs": [
    {
     "name": "stdout",
     "output_type": "stream",
     "text": [
      "5\n"
     ]
    }
   ],
   "source": [
    "# This is single line comment\n",
    "x = 5\n",
    "print(x)   # This is inline comment"
   ]
  },
  {
   "cell_type": "code",
   "execution_count": 20,
   "metadata": {},
   "outputs": [
    {
     "name": "stdout",
     "output_type": "stream",
     "text": [
      "Hello\n",
      "World\n"
     ]
    }
   ],
   "source": [
    "# To perform Multiline comment : Select the block of code you want to comment with mouse. Then press   ctrl+/   to comment or uncomment.\n",
    "\n",
    "print(\"Hello\")\n",
    "print(\"World\")"
   ]
  },
  {
   "cell_type": "markdown",
   "metadata": {},
   "source": [
    "## if , if-else , else if , nested if"
   ]
  },
  {
   "cell_type": "code",
   "execution_count": 21,
   "metadata": {},
   "outputs": [],
   "source": [
    "marks = 90"
   ]
  },
  {
   "cell_type": "code",
   "execution_count": 22,
   "metadata": {},
   "outputs": [
    {
     "name": "stdout",
     "output_type": "stream",
     "text": [
      "Pass\n"
     ]
    }
   ],
   "source": [
    "if (marks>33):\n",
    "    print(\"Pass\")"
   ]
  },
  {
   "cell_type": "code",
   "execution_count": 23,
   "metadata": {},
   "outputs": [
    {
     "name": "stdout",
     "output_type": "stream",
     "text": [
      "90\n"
     ]
    }
   ],
   "source": [
    "if (marks>95):\n",
    "    print(\"95\")\n",
    "else :\n",
    "    print(\"90\")"
   ]
  },
  {
   "cell_type": "code",
   "execution_count": 24,
   "metadata": {},
   "outputs": [
    {
     "name": "stdout",
     "output_type": "stream",
     "text": [
      "C\n"
     ]
    }
   ],
   "source": [
    "marks=35\n",
    "if (marks>60):\n",
    "    print(\"A\")\n",
    "elif (marks>40):\n",
    "    print(\"B\")\n",
    "elif (marks>=33):\n",
    "    print(\"C\")\n",
    "else:\n",
    "    print(\"D\")"
   ]
  },
  {
   "cell_type": "markdown",
   "metadata": {},
   "source": [
    "## While Loop"
   ]
  },
  {
   "cell_type": "code",
   "execution_count": 25,
   "metadata": {},
   "outputs": [
    {
     "name": "stdout",
     "output_type": "stream",
     "text": [
      "10\n",
      "8\n",
      "6\n",
      "4\n",
      "2\n",
      "0\n"
     ]
    }
   ],
   "source": [
    "a=10\n",
    "while a>=0:\n",
    "    print(a)\n",
    "    a-=2\n"
   ]
  },
  {
   "cell_type": "code",
   "execution_count": 26,
   "metadata": {},
   "outputs": [
    {
     "name": "stdout",
     "output_type": "stream",
     "text": [
      "10\n",
      "8\n",
      "6\n"
     ]
    }
   ],
   "source": [
    "a=10\n",
    "while a>=0:\n",
    "    if (a==4):\n",
    "        a=a-2\n",
    "        break     # skips whole loop\n",
    "    print(a)\n",
    "    a-=2"
   ]
  },
  {
   "cell_type": "code",
   "execution_count": 27,
   "metadata": {},
   "outputs": [
    {
     "name": "stdout",
     "output_type": "stream",
     "text": [
      "10\n",
      "8\n",
      "6\n",
      "2\n",
      "0\n"
     ]
    }
   ],
   "source": [
    "a=10\n",
    "while a>=0:\n",
    "    if (a==4):\n",
    "        a=a-2\n",
    "        continue     # skips only this iteration\n",
    "    print(a)\n",
    "    a-=2"
   ]
  },
  {
   "cell_type": "code",
   "execution_count": 6,
   "metadata": {},
   "outputs": [
    {
     "name": "stdout",
     "output_type": "stream",
     "text": [
      "10\n",
      "8\n",
      "6\n",
      "2\n",
      "0\n",
      "For b = 1\n",
      "10\n",
      "8\n",
      "6\n",
      "2\n",
      "0\n",
      "For b = 2\n",
      "10\n",
      "8\n",
      "6\n",
      "2\n",
      "0\n",
      "For b = 3\n"
     ]
    }
   ],
   "source": [
    "a=10\n",
    "b=1\n",
    "while b<=3:\n",
    "    while a>=0:\n",
    "        if (a==4):\n",
    "            a=a-2\n",
    "            continue     # skips whole loop in which break is and continues the outer loop\n",
    "        print(a)\n",
    "        a-=2\n",
    "    print(\"For b =\",b)\n",
    "    b=b+1\n",
    "    a=10"
   ]
  },
  {
   "cell_type": "code",
   "execution_count": 35,
   "metadata": {},
   "outputs": [
    {
     "name": "stdout",
     "output_type": "stream",
     "text": [
      "10\n",
      "8\n",
      "6\n",
      "4\n",
      "2\n",
      "0\n"
     ]
    }
   ],
   "source": [
    "# pass is used when we want to execute nothing\n",
    "a=10\n",
    "while a>=0:\n",
    "    if (a==4):\n",
    "        pass\n",
    "       #print(\"pass\")    # If we try to execute something then it will perform it but pass is notation that we don't want to execute anything here\n",
    "    print(a)\n",
    "    a-=2"
   ]
  },
  {
   "cell_type": "code",
   "execution_count": null,
   "metadata": {},
   "outputs": [],
   "source": []
  }
 ],
 "metadata": {
  "kernelspec": {
   "display_name": "Python 3",
   "language": "python",
   "name": "python3"
  },
  "language_info": {
   "codemirror_mode": {
    "name": "ipython",
    "version": 3
   },
   "file_extension": ".py",
   "mimetype": "text/x-python",
   "name": "python",
   "nbconvert_exporter": "python",
   "pygments_lexer": "ipython3",
   "version": "3.8.5"
  }
 },
 "nbformat": 4,
 "nbformat_minor": 4
}
