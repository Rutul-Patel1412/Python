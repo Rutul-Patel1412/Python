{
 "cells": [
  {
   "cell_type": "markdown",
   "metadata": {},
   "source": [
    "# Points\n",
    "0. A function is a block of code that can be used to perform some task. It can be used multiple times.\n",
    "1. The types of function in Python : Built-in function (print(),min()) , User defined function (which user creates), Anonymous functions (aka. lambda function because they are not declared with standard def keyword)\n",
    "2. def keyword then name of function then parameters in parenthesis then colon at the end.\n",
    "3. def funname(para1,para2):\n",
    "      statements\n",
    "4. "
   ]
  },
  {
   "cell_type": "code",
   "execution_count": 4,
   "metadata": {},
   "outputs": [
    {
     "name": "stdout",
     "output_type": "stream",
     "text": [
      "11\n"
     ]
    }
   ],
   "source": [
    "def sum(a,b):\n",
    "    return a+b\n",
    "    #x = a+b\n",
    "    #print(x)\n",
    "#sum(4,7)\n",
    "x = sum(4,8)\n",
    "print(x)"
   ]
  },
  {
   "cell_type": "code",
   "execution_count": 5,
   "metadata": {},
   "outputs": [
    {
     "name": "stdout",
     "output_type": "stream",
     "text": [
      "hello\n",
      "world\n"
     ]
    }
   ],
   "source": [
    "def fun():\n",
    "    print(\"hello\")\n",
    "    print(\"world\")\n",
    "fun()"
   ]
  },
  {
   "cell_type": "markdown",
   "metadata": {},
   "source": [
    "## Function Arguments\n",
    "1. Required arguments : simple or usual rite function define karyu hoy and arguments hoy tya value api call karyu hoy\n",
    "2. Keyword arguments : parameter na name thi apde value apiye call karti vakhate i.e. parameter name=5\n",
    "3. Default arguments : function define karti vakhate apde value apiye. call karti vakhate apde ae argument (i.e. parameter) ni value na apiye to default lai le and value apiye to apeli value le (default ni jagiyaye)\n",
    "4. Variable-length arguments : apadne khabar na hoy ke ketla parameters ni jarur padse, tyre * keyword use kari ne game teli value fetch kari sakiye and for loop thi use kari sakiye"
   ]
  },
  {
   "cell_type": "code",
   "execution_count": 6,
   "metadata": {},
   "outputs": [
    {
     "name": "stdout",
     "output_type": "stream",
     "text": [
      "25\n"
     ]
    }
   ],
   "source": [
    "# Required arguments\n",
    "def sqr(a):\n",
    "    x=a**2\n",
    "    print(x)\n",
    "sqr(5)"
   ]
  },
  {
   "cell_type": "code",
   "execution_count": 7,
   "metadata": {},
   "outputs": [
    {
     "name": "stdout",
     "output_type": "stream",
     "text": [
      "3\n"
     ]
    }
   ],
   "source": [
    "# Keyword arguments :parameter na name thi value api\n",
    "def fun(a,b):\n",
    "    sub = b-a\n",
    "    print(sub)\n",
    "fun(b=5,a=2)"
   ]
  },
  {
   "cell_type": "code",
   "execution_count": 9,
   "metadata": {},
   "outputs": [
    {
     "name": "stdout",
     "output_type": "stream",
     "text": [
      "25\n",
      "125\n"
     ]
    }
   ],
   "source": [
    "# Default argument : b=2 default argument. jo b ni value nai pass kariye call vakhat to 2 lai lese by default. otherwise jo\n",
    "# value apiye to apeli value lese\n",
    "def pow(a,b=2):\n",
    "    ans = a**b\n",
    "    print(ans)\n",
    "pow(5)      # default value takes\\n\n",
    "pow(5,3)    # passed value taken"
   ]
  },
  {
   "cell_type": "code",
   "execution_count": 13,
   "metadata": {},
   "outputs": [
    {
     "name": "stdout",
     "output_type": "stream",
     "text": [
      "5\n",
      "34\n"
     ]
    }
   ],
   "source": [
    "# Variable-length arguments : multiple values pass kari \n",
    "def fun(a,*b):\n",
    "    sum = a\n",
    "    for i in b:\n",
    "        sum=sum+i\n",
    "    print(sum)\n",
    "fun(5)   # a ni value pass kari but b ma koi value pass nai kari\n",
    "fun(5,4,5,8,12)    # a ni value 5 pass kari and b ma 4,5,8,12 pass karya"
   ]
  },
  {
   "cell_type": "markdown",
   "metadata": {},
   "source": [
    "## Lambda function or Anonymous function : They are called anonymous function because they are not declared in the standard manner by using the   def   keyword. You can use lambda keyword to create lambda function.\n",
    "1. Lambda can take any number of arguments but return just one value\n",
    "2. Lambda function cannot be a direct call because lambda requires an expression\n",
    "3. var = lambda arg1,arg2,..=expression"
   ]
  },
  {
   "cell_type": "code",
   "execution_count": 2,
   "metadata": {},
   "outputs": [
    {
     "name": "stdout",
     "output_type": "stream",
     "text": [
      "23\n"
     ]
    }
   ],
   "source": [
    "sqr = lambda x,y,z:x+y*z\n",
    "print(sqr(3,4,5))"
   ]
  },
  {
   "cell_type": "markdown",
   "metadata": {},
   "source": [
    "## Global and Local variable"
   ]
  },
  {
   "cell_type": "code",
   "execution_count": 7,
   "metadata": {},
   "outputs": [
    {
     "name": "stdout",
     "output_type": "stream",
     "text": [
      "5 and 10\n",
      "50\n"
     ]
    }
   ],
   "source": [
    "x=50\n",
    "def fun():\n",
    "    x=5\n",
    "    y=10\n",
    "    #print(x+\" and \"+y)   will give error\n",
    "    print(x,\"and\",y)\n",
    "fun()\n",
    "print(x)"
   ]
  },
  {
   "cell_type": "code",
   "execution_count": null,
   "metadata": {},
   "outputs": [],
   "source": []
  }
 ],
 "metadata": {
  "kernelspec": {
   "display_name": "Python 3",
   "language": "python",
   "name": "python3"
  },
  "language_info": {
   "codemirror_mode": {
    "name": "ipython",
    "version": 3
   },
   "file_extension": ".py",
   "mimetype": "text/x-python",
   "name": "python",
   "nbconvert_exporter": "python",
   "pygments_lexer": "ipython3",
   "version": "3.8.5"
  }
 },
 "nbformat": 4,
 "nbformat_minor": 4
}
